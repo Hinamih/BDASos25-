{
 "cells": [
  {
   "cell_type": "markdown",
   "metadata": {},
   "source": [
    "# BDA Analyseprojekt \n",
    "Ilma Lupic 217098; Celina Wegner 216841; Malaika Hatos 216839"
   ]
  },
  {
   "cell_type": "code",
   "execution_count": null,
   "metadata": {
    "slideshow": {
     "slide_type": "fragment"
    }
   },
   "outputs": [
    {
     "name": "stdout",
     "output_type": "stream",
     "text": [
      "i = 1\n",
      "j = 1\n",
      "i+j = 2\n",
      "j = 2\n",
      "i+j = 3\n",
      "j = 3\n",
      "i+j = 4\n",
      "1\n",
      "i = 2\n",
      "j = 1\n",
      "i+j = 3\n",
      "j = 2\n",
      "i+j = 4\n",
      "j = 3\n",
      "i+j = 5\n",
      "2\n",
      "i = 3\n",
      "j = 1\n",
      "i+j = 4\n",
      "j = 2\n",
      "i+j = 5\n",
      "j = 3\n",
      "i+j = 6\n",
      "3\n",
      "i = 4\n",
      "j = 1\n",
      "i+j = 5\n",
      "j = 2\n",
      "i+j = 6\n",
      "j = 3\n",
      "i+j = 7\n",
      "4\n",
      "done looping\n"
     ]
    }
   ],
   "source": [
    "# Bibliotheken\n",
    "import numpy as np\n",
    "import pandas as pd\n",
    "import scipy.stats as stats\n",
    "import matplotlib.pyplot as plt\n",
    "import math\n",
    "import seaborn as sns"
   ]
  },
  {
   "cell_type": "code",
   "execution_count": null,
   "metadata": {
    "slideshow": {
     "slide_type": "fragment"
    }
   },
   "outputs": [
    {
     "name": "stdout",
     "output_type": "stream",
     "text": [
      "9\n"
     ]
    }
   ],
   "source": [
    "## Wichtig zu verstehen ist, dass Leerzeichen zwichen runden und eckigen Klammern ignoriert werden.\n",
    "numbers = (1 +     3 +     5)\n",
    "print(numbers)"
   ]
  },
  {
   "cell_type": "code",
   "execution_count": null,
   "metadata": {
    "slideshow": {
     "slide_type": "fragment"
    }
   },
   "outputs": [
    {
     "name": "stdout",
     "output_type": "stream",
     "text": [
      "[[1, 2, 3], [4, 5, 6], [7, 8, 9]]\n",
      "[[1, 2, 3], [4, 5, 6], [7, 8, 9]]\n"
     ]
    }
   ],
   "source": [
    "## Dies hilft vor allem dabei, den Code bei Matrizen o.ä. lesbarer zu machen. \n",
    "list_of_lists = [[1, 2, 3], [4, 5 ,6], [7, 8 ,9 ]]\n",
    "\n",
    "easier_to_read = [[1, 2, 3], \n",
    "                  [4, 5 ,6], \n",
    "                  [7, 8 ,9 ]]\n",
    "\n",
    "## Beide Listen (Matrizen) sind identisch aber die zweite lässt sich im Code besser lesen. \n",
    "print(list_of_lists)\n",
    "print(easier_to_read)"
   ]
  },
  {
   "cell_type": "markdown",
   "metadata": {},
   "source": [
    "## Module"
   ]
  },
  {
   "cell_type": "markdown",
   "metadata": {},
   "source": [
    "Viele Funktionen in Python werden nicht automatisch geladen. Dazu gehören nicht nur Spezialmodule die im Standard von Python vorhanden sind, sondern ebenfalls Module von Drittanbieter für Spezialfälle. \n",
    "\n",
    "Für unsere Datenanylse werden wir später vor allem auf Module zur Datenvorbearbeitung, dem maschinellen Lernen und auf die Visualisierung zurückgreifen. \n",
    "\n",
    "Um die Module verwenden zu können, müssen sie erstens auf ihrem Rechner installiert sein und zweitens dann in ihrem Programm bzw. Notebook importiert werden. \n",
    "\n",
    "\n",
    "Weiterführende Links: https://docs.python.org/3/tutorial/modules.html"
   ]
  },
  {
   "cell_type": "code",
   "execution_count": null,
   "metadata": {},
   "outputs": [],
   "source": [
    "## Zum Beispiel wollen wir hier das Modul für die Bearbeitung von regulären Expressions importieren. \n",
    "## Das Modul, das wir hierfür benötigen, ist 're' \n",
    "\n",
    "## Importiert wird das Modul mit dem Befehl import\n",
    "import re\n",
    "## Nach diesem Befehl muss bei Verwendung von Funktionen aus dem Modul der Begriff re vorgestellt werden. \n",
    "my_regex = re.compile(\"[0-9]\", re.I)\n",
    "\n",
    "## Es besteht auch die Möglichkeit ein Alias für ein Module zu verwenden. Dies ist vor allem dann sinnvoll, \n",
    "## wenn der Modulname bereits vergeben ist oder inbesondere bei einem langen Modulnamen, um nicht so tippen zu müssen:\n",
    "\n",
    "import re as regex \n",
    "my_regex = regex.compile(\"[0-9]\", regex.I)\n",
    "\n",
    "## Langen Namen durch Alias kürzen:\n",
    "import matplotlib.pyplot as plt\n",
    "\n",
    "## Sie können auch nur bestimmte Funktionen eines Moduls in Ihr Programm übernehmen. Hierbei müssen Sie dann \n",
    "## auch nicht den Modulnamen bei der Verwendung angeben. \n",
    "\n",
    "from collections import defaultdict, Counter\n",
    "lookup = defaultdict(int)\n",
    "my_counter = Counter()\n"
   ]
  },
  {
   "cell_type": "markdown",
   "metadata": {},
   "source": [
    "## Arithmetik in Python"
   ]
  },
  {
   "cell_type": "markdown",
   "metadata": {},
   "source": [
    "Achtung: Während Python 2.7 standardmäßig noch ganzzahlig geteilt hat, macht Python 3 dies nicht mehr!\n"
   ]
  },
  {
   "cell_type": "code",
   "execution_count": null,
   "metadata": {},
   "outputs": [
    {
     "data": {
      "text/plain": [
       "2.5"
      ]
     },
     "execution_count": 9,
     "metadata": {},
     "output_type": "execute_result"
    }
   ],
   "source": [
    "## Wenn Sie 5/2 dividieren kommt daher wie erwartet 2,5 heraus:\n",
    "5/2"
   ]
  },
  {
   "cell_type": "markdown",
   "metadata": {},
   "source": [
    "## Funktionen"
   ]
  },
  {
   "cell_type": "markdown",
   "metadata": {},
   "source": [
    "Funktionen dienen insbesondere dazu Codeblöcke zu bündeln und die Wiederverwendbarkeit zu ermöglichen.\n",
    "\n",
    "Eine Funktion ist eine Regel, die null oder mehr Eingabewerte annimmt und eine entsprechende Ausgabe (Returnwert(e))\n",
    "zurückgibt. \n",
    "\n",
    "Funktionen werden in Python mittels dem Begriff 'def:' definiert. \n",
    "\n",
    "In Jupyter können sie funktionen in einer Zelle definieren und später diese dann wieder verwenden. \n",
    "\n",
    "\n",
    "Weiterführende Informationen: \n",
    "- https://docs.python.org/3/tutorial/controlflow.html#defining-functions\n",
    "- https://docs.python.org/3/tutorial/controlflow.html#more-on-defining-functions\n"
   ]
  },
  {
   "cell_type": "code",
   "execution_count": null,
   "metadata": {},
   "outputs": [
    {
     "name": "stdout",
     "output_type": "stream",
     "text": [
      "5\n",
      "-5\n",
      "-5\n"
     ]
    }
   ],
   "source": [
    "## Folgendes Beispiel zeigt eine Funktion, die zwei Werte entgegennimmt \n",
    "## und dann die Differenz## beider Werte zurückgibt.\n",
    "## Ergänzend sind die beiden Inputvariablen mit vordefinierten Werten belegt, \n",
    "## so dass diese nicht direkt eingegeben werden müssen.\n",
    "\n",
    "def subtract(a=0, b=0):\n",
    "    return a-b\n",
    "\n",
    "print(subtract(10, 5)) # gibt 5 zurück \n",
    "print(subtract(0, 5))  # gibt -5 zurück\n",
    "print(subtract(b=5))   # gibt -5 zurück"
   ]
  },
  {
   "cell_type": "markdown",
   "metadata": {},
   "source": [
    "## Datentypen"
   ]
  },
  {
   "cell_type": "markdown",
   "metadata": {},
   "source": [
    "Um Daten zu speichern und zu verwenden, werden Variablen verwendet. Je nachdem ob es sich Texte, Listen, Tabellen oder Zahlen handelt können unterschiedliche Datentypen verwendet werden. \n",
    "\n",
    "Die gängigsten Datentypen, die im Standard vorhanden sind, werden nun definiert:"
   ]
  },
  {
   "cell_type": "markdown",
   "metadata": {},
   "source": [
    "### Strings"
   ]
  },
  {
   "cell_type": "markdown",
   "metadata": {},
   "source": [
    "Strings speichern vor allem Zeichenketten, Texte oder Buchstaben. Sie lassen sich in Python mittels einfacher oder doppelten Anführungszeichen begrenzen und einer Variable zuordnen.\n",
    "\n",
    "Sonderzeichen werden in Python mittels '\\' codiert.\n",
    "\n",
    "Mittels dreifachen Anführungszeichen können Strings über mehrere Zeilen definiert werden. \n",
    "\n",
    "Weiterführende Informationen: https://docs.python.org/3/tutorial/introduction.html#strings"
   ]
  },
  {
   "cell_type": "code",
   "execution_count": null,
   "metadata": {},
   "outputs": [
    {
     "name": "stdout",
     "output_type": "stream",
     "text": [
      " Hallo, Zeile eins.\n",
      "Zeile zwei,\n",
      "Zeile \tdrei\n"
     ]
    }
   ],
   "source": [
    "single_quoted = 'Das ist ein Text'\n",
    "double_quoted = \"Das ist ebenfalls ein Text\"\n",
    "multiline = \"\"\" Hallo, Zeile eins.\n",
    "Zeile zwei,\n",
    "Zeile \\tdrei\"\"\"\n",
    "\n",
    "print(multiline)\n",
    "\n",
    "## Codierung von Sonderzeichen\n",
    "tab_text = \"\\t\"  # Das Kürzel bildet ein Tab ab\n"
   ]
  },
  {
   "cell_type": "markdown",
   "metadata": {},
   "source": [
    "### Listen"
   ]
  },
  {
   "cell_type": "markdown",
   "metadata": {},
   "source": [
    "Die Liste ist wahrscheinlcih die wichtigste Datenstruktur in Python. Eine Liste ist eine geordnete Abfolge von Elementen. Sie ähnelt Arrays in anderen Sprachen bietet aber etwas mehr.\n",
    "\n",
    "Listen beginnen immer mit eckigen Klammern. \n",
    "\n",
    "Weiterfürhende Information: https://docs.python.org/3/tutorial/introduction.html#lists"
   ]
  },
  {
   "cell_type": "code",
   "execution_count": null,
   "metadata": {},
   "outputs": [
    {
     "name": "stdout",
     "output_type": "stream",
     "text": [
      "[1, 2, 3]\n",
      "['Hallo', 0.5, True]\n",
      "3\n",
      "6\n",
      "1\n",
      "[-1, 1, 2]\n",
      "1\n",
      "0\n",
      "[1, 2, 3, 4, 5, 6]\n",
      "1\n",
      "2\n"
     ]
    }
   ],
   "source": [
    "## Definition von Listen\n",
    "integer_list = [1,2,3]\n",
    "gemischte_typen = [\"Hallo\", 0.5, True]\n",
    "\n",
    "## Ausgabe von Listen\n",
    "\n",
    "print(integer_list)\n",
    "print(gemischte_typen)\n",
    "\n",
    "## Länge von Listen\n",
    "print(len(integer_list)) ## Gibt länge 3\n",
    "\n",
    "## Summieren aller Elemente einer Integerliste\n",
    "list_sum = sum(integer_list)  ## Gibt Summe 6 zurück\n",
    "print(list_sum)\n",
    "\n",
    "## Man kann auf das n-te Element der Liste mittels eckigen Klammern zugreifen. \n",
    "x = list(range(10))  ## Definiert eine Liste von [0, 1, ... 9] (Achtung: nur range -> lazy evaluation)\n",
    "print(x[1])     ## Gibt 1 aus. Bitte beachten Sie, dass Listen mit dem Zähler 0 beginnen. \n",
    "\n",
    "nine = x[-1]   ## gleich 9 das ist das letzte Element in der Liste (mit -1 wird auf das letzte Element zugegriffen)\n",
    "eight = x[-2]  ## gleich 8 das ist das vorlestzte Element in Python\n",
    "\n",
    "## Man kann auch die Werte in der Liste direkt ändern:\n",
    "x[0] = -1      ## Damit ist x gleich [-1, 1, 2, ...., 9]\n",
    "\n",
    "## Man kann die eckigen Klammen auch einsetzen um Listen in Datensätzen zu zerschneiden:\n",
    "first_three = x[:3]     ## Liefert eine Liste zurück mit den Werten [-1, 1, 2]\n",
    "print(first_three)\n",
    "three_to_end = x [3:]   ## Liefert [3, 4, ...., 9]\n",
    "one_to_four = x[1:5]    ## Liefert [1,2,3,4]\n",
    "last_three = x[-3:]     ## Liefert [7, 8 ,9]\n",
    "without_first_and_last = x [1:-1] ## [1,2,3,...,8]\n",
    "\n",
    "### Des Weiteren kann man auch prüfen, ob ein Wert in der Liste enthalten ist. \n",
    "## Wenn ja wird der Wert True zurück geliefert. Wenn Nein False\n",
    "print(1) in [1, 3, 4]  ## Liefert True\n",
    "print(0) in [1, 2, 3]  ## Liefert False\n",
    "\n",
    "\n",
    "## Sie können auch Listen miteinander verbinden:\n",
    "x = [1, 2, 3]\n",
    "x.extend([4, 5, 6])\n",
    "print(x)            ## x beinhaltet nun [1, 2, 3, 4, 5, 6]\n",
    "\n",
    "## Wenn Sie die Länge einer Liste kennen, können Sie auch die einzelnen ELemente neuen Variablen zuordnen. (Entpacken)\n",
    "liste = [1, 2]\n",
    "x, y = liste    ## x hat nun den Wert 1 und y den Wert 2\n",
    "print(x)\n",
    "print(y)\n",
    "\n",
    "## Wenn Sie einzelne Werte nicht benötig dnn können diese mit einem Unterstrich herausgenommen werden:\n",
    "_, y = liste   ## Liefert nur den Wert zwei an y"
   ]
  },
  {
   "cell_type": "markdown",
   "metadata": {},
   "source": [
    "### Tupel"
   ]
  },
  {
   "cell_type": "markdown",
   "metadata": {},
   "source": [
    "Tupel sind unveränderbare Listen. Alle Funktionen, die bei Listen vorhanden sind und die keine Veränderung vornehmen, können auch mit Tupeln verwendet werden.\n",
    "\n",
    "Tupel werden mit runden Klammern definiert.  \n",
    "\n",
    "Weiterführende Informationen: https://docs.python.org/3/tutorial/datastructures.html#tuples-and-sequences"
   ]
  },
  {
   "cell_type": "code",
   "execution_count": null,
   "metadata": {},
   "outputs": [
    {
     "name": "stdout",
     "output_type": "stream",
     "text": [
      "2\n",
      "Cannot modify Tupel\n"
     ]
    }
   ],
   "source": [
    "my_tupel = (1,2)   ## Definition eines Tupels\n",
    "\n",
    "print(my_tupel[1])  ## Liefert 2 als Ergebnis zurück\n",
    "\n",
    "### Der Versuch, ein Tupel zu verändern: \n",
    "# Mit try un dexcept können Fehler abgefangen werden\n",
    "try:\n",
    "    my_tupel[1] = 3\n",
    "except TypeError:\n",
    "    print(\"Cannot modify Tupel\")"
   ]
  },
  {
   "cell_type": "markdown",
   "metadata": {},
   "source": [
    "### Dictionaries"
   ]
  },
  {
   "cell_type": "markdown",
   "metadata": {},
   "source": [
    "Die nächste wichtige Datenstruktur ist das Dictionary. Es handelt sich hierbei um eine Struktur die mittels eindeutigen Schlüsseln, Werte verfügbar macht. (Key, Value - Store). \n",
    "\n",
    "Dictionaries werden mittels geschweifeten Klammern definiert. Dabei wird Key und Value mittels eines Doppelpunktes von einander getrennt. Die Struktur entspricht dem json Format. \n",
    "\n",
    "Weiterführende Literatur: https://docs.python.org/3/tutorial/datastructures.html#dictionaries"
   ]
  },
  {
   "cell_type": "code",
   "execution_count": null,
   "metadata": {},
   "outputs": [
    {
     "name": "stdout",
     "output_type": "stream",
     "text": [
      "5.0\n",
      "Student2\n",
      "Student3\n",
      "1.3\n",
      "0\n",
      "None\n",
      "{'Student1': 3.0, 'Student2': 5.0}\n",
      "{'Student1': 3.0, 'Student2': 5.0, 'Tim': 5.0}\n",
      "dict_keys(['Student1', 'Student2', 'Tim'])\n",
      "dict_values([3.0, 5.0, 5.0])\n",
      "dict_items([('Student1', 3.0), ('Student2', 5.0), ('Tim', 5.0)])\n"
     ]
    }
   ],
   "source": [
    "empty_dict = {} ## Leeres Dictionary\n",
    "noten = {\"Student1\": 1.3 , \"Student2\" : 5.0} ## Dictionary mit zwei Einträgen. \n",
    "\n",
    "### Mittels dem Schlüssel in eckigen Klammern kann man nun den Wert jeden Eintrages nachschlagen:\n",
    "print(noten['Student2'])    ## Ausgabe 5.0\n",
    "\n",
    "### Auch hier besteht wieder die Möglichkeit zu prüfen, ob ein Schlüssel in in dem Dictionary vorhanden ist:\n",
    "print(\"Student2\") in noten  ## Liefert True zurück\n",
    "print(\"Student3\") in noten  ## Liefert False zurück\n",
    "\n",
    "### Sie können sich auch einen Standardwert zurückliefern lassen, sobald ein Schlüssel nicht vorhanden ist.\n",
    "### Hierfür muss man anstatt den Befehl in den Befehl get verwenden:\n",
    "print(noten.get(\"Student1\", 0)) ## Liefert 1.3 zurück\n",
    "print(noten.get(\"Student3\", 0)) ## Liefert 0 zurück\n",
    "print(noten.get(\"Student3\"))    ## Geben Sie bei get keinen Standardwert an, wird automatisch None als Wert zurückgeliefert\n",
    "\n",
    "### Zuweisen von Werten lassen sich auch direkt mittels des Schlüssels und eckige Klammer vornehmen. \n",
    "noten[\"Student1\"] = 3.0 ## Speichert direkt 3.0 bei dem Student1 \n",
    "print(noten)              \n",
    "noten[\"Tim\"] = 5.0      ## Wenn der Schlüssel nicht existiert, dann wird automatisch das Key/Value Paar dem Dict angehängt.\n",
    "print(noten)\n",
    "\n",
    "### Um sich alle Keys ausgeben zu lassen, kann man das Schlüsselwort keys() verwenden:\n",
    "print(noten.keys())\n",
    "\n",
    "### Ebenso kann man sich alle Werte eines Dictionaries ausgeben lassen\n",
    "print(noten.values())\n",
    "\n",
    "## Wenn Sie auf alle Key/Value Paare zugreifen wollen, dann bietet sich items() an. \n",
    "## (Vor allem bei Schleifen interessant.). Die zurückgelieferten Key/Value-Paare werden als Tupel zurückgeliefert.\n",
    "print(noten.items())"
   ]
  },
  {
   "cell_type": "markdown",
   "metadata": {},
   "source": [
    "### Defaultdicts"
   ]
  },
  {
   "cell_type": "markdown",
   "metadata": {},
   "source": [
    "Es gibt noch ein spezielles dictionary, nämlich das Defaultdict. Das defaultdict ist vor allem Interessant, wenn man Ergebnisse in einem Dictionary speichern möchte, ohne jedes Mal zu prüfen, ob ein Schlüssel bereits existiert. \n",
    "\n",
    "Das Defaultdict funktioniert wie ein gewöhnliches Dictionary, aber wenn Sie einen nicht vorhandenen Schlüssel nachschlagen, dann fügt es zunächst einen neuen Wert mithilfe einer von Ihnen definierten Funktion ein. \n",
    "\n",
    "Das Defaultdict befindet sich im Modul collections und muss erst über den Import eingefügt werden. \n",
    "\n",
    "Das folgende Beispiel zeigt die Verwendung des defaultdict beim Zählen von Wörtern:\n",
    "\n",
    "Weiterführende Literatur: https://docs.python.org/3/library/collections.html#collections.defaultdict\n",
    "\n",
    "Weitere Datenstrukturen: https://docs.python.org/3/library/collections.html"
   ]
  },
  {
   "cell_type": "code",
   "execution_count": null,
   "metadata": {},
   "outputs": [
    {
     "data": {
      "text/plain": [
       "defaultdict(int,\n",
       "            {'John': 2,\n",
       "             'likes': 3,\n",
       "             'to': 2,\n",
       "             'watch': 2,\n",
       "             'movies': 2,\n",
       "             'Mary': 1,\n",
       "             'too': 1,\n",
       "             'also': 1,\n",
       "             'football': 1,\n",
       "             'games': 1})"
      ]
     },
     "execution_count": 17,
     "metadata": {},
     "output_type": "execute_result"
    }
   ],
   "source": [
    "## Import des defaultdicts\n",
    "from collections import defaultdict \n",
    "\n",
    "## Deklaration des Defaultdicts\n",
    "word_counts = defaultdict(int)    ## Funktion int() liefet 0 und stellt die Funktion zur Setzung des initialen Wertes dar.\n",
    "\n",
    "## Zählen der Wörter des Textes in der Variable text\n",
    "text = \"John likes to watch movies. Mary likes movies too. John also likes to watch football games.\"\n",
    "text = text.replace(\".\",\"\")       ## Entferne alle Punkte im String.\n",
    "list_of_words = text.split()      ## Teile den Text nach Wörtern auf. \n",
    "\n",
    "for word in list_of_words:        ## Schleife um über alle Wörter zu iterieren\n",
    "    word_counts[word] += 1        ## Für jedes Wort wird ein Key/Value Paar mit initial 0 angelegt und dann um 1 erhöht\n",
    "\n",
    "word_counts  ## Ausgabe funktioniert auch ohne Print, wenn es die einzige Ausgabe in der Zelle ist.\n",
    "\n"
   ]
  },
  {
   "cell_type": "markdown",
   "metadata": {},
   "source": [
    "### Sets"
   ]
  },
  {
   "cell_type": "markdown",
   "metadata": {},
   "source": [
    "Eine weitere Datenstruktur ist das Set. Das Set beinhaltet eine Menge eindeutiger Elemente. \n",
    "\n",
    "Sets eigenen sich sehr gut dafür, eindeutige (unique) Werte zu identifizieren und auszugeben.\n",
    "  \n",
    "Definiert werden Sets mittels der Funktion sets()"
   ]
  },
  {
   "cell_type": "code",
   "execution_count": null,
   "metadata": {},
   "outputs": [
    {
     "data": {
      "text/plain": [
       "{1, 2}"
      ]
     },
     "execution_count": 18,
     "metadata": {},
     "output_type": "execute_result"
    }
   ],
   "source": [
    "s = set()   ## Definition des Sets\n",
    "s.add(1)    ## Fügt eine 1 dem Set hinzu.\n",
    "s.add(2)    ## Fügt eine 2 dem Set hinzu.\n",
    "s.add(1)    ## Ändert nichts am Set, Set beinhaltet immer noch zwei Werte\n",
    "s"
   ]
  },
  {
   "cell_type": "code",
   "execution_count": null,
   "metadata": {},
   "outputs": [
    {
     "name": "stdout",
     "output_type": "stream",
     "text": [
      "6\n",
      "3\n",
      "[1, 2, 3]\n"
     ]
    }
   ],
   "source": [
    "### Mit den folgenden Schritten können Sie eindeutig Elemente in einer Dictionary extrahieren:\n",
    "item_list = [1, 2, 3, 1, 2, 3]\n",
    "print(len(item_list))       # Output ist 6\n",
    "item_set = set(item_list)  # Set is defined\n",
    "print(len(item_set))        # Output ist 3\n",
    "distinct_item_list = list(item_set) # Output ist [1,2,3]\n",
    "print(distinct_item_list)"
   ]
  },
  {
   "cell_type": "markdown",
   "metadata": {},
   "source": [
    "### Ausgabe von Variabeln in Print mit Platzhaltern"
   ]
  },
  {
   "cell_type": "markdown",
   "metadata": {},
   "source": [
    "Manchmal ist es hilfreich, wenn man Variabeln ausgeben kann und einen beschreibenden Text mit einbauen kann. Hierfür können in der print-Funktion Platzhalter für verschiedene Variablen festlegt werden. Diese werden dann am Ende des Funktionsaufrufs einfach mit angegeben. \n"
   ]
  },
  {
   "cell_type": "code",
   "execution_count": null,
   "metadata": {},
   "outputs": [
    {
     "name": "stdout",
     "output_type": "stream",
     "text": [
      "Name des Studenten ist: Max Mustermann. Er hat sich als 2 angemeldet. Seine Augenfarbe ist blau und sein Gewicht beläuft sich auf 74 kg\n"
     ]
    }
   ],
   "source": [
    "text1 = \"Max Mustermann\"\n",
    "number1 = 2\n",
    "augenfarbe = \"blau\"\n",
    "Gewicht = 74\n",
    "\n",
    "## Mittels %s identifiziert Python einen Platzhalter für String Variabeln\n",
    "## Mittels %d identifiziert Python einen Platzhalter für Numerische Variabeln\n",
    "\n",
    "print(\"Name des Studenten ist: %s. Er hat sich als %d angemeldet. Seine Augenfarbe \\\n",
    "ist %s und sein Gewicht beläuft sich auf %d kg\" % (text1, number1, augenfarbe, Gewicht))"
   ]
  },
  {
   "cell_type": "markdown",
   "metadata": {},
   "source": [
    "## Kontrollfluss"
   ]
  },
  {
   "cell_type": "markdown",
   "metadata": {},
   "source": [
    "Weiterführende Informationen: https://docs.python.org/3/tutorial/controlflow.html#"
   ]
  },
  {
   "cell_type": "markdown",
   "metadata": {},
   "source": [
    "### if elif else Statements"
   ]
  },
  {
   "cell_type": "markdown",
   "metadata": {},
   "source": [
    "Mittels if Bedingungen kann der Programmfluss nach Bedingungen eingegegrenzt werden. \n",
    "\n",
    "Weiterführende Information: https://docs.python.org/3/tutorial/controlflow.html#if-statements\n"
   ]
  },
  {
   "cell_type": "code",
   "execution_count": null,
   "metadata": {},
   "outputs": [
    {
     "name": "stdout",
     "output_type": "stream",
     "text": [
      "Yep!\n"
     ]
    }
   ],
   "source": [
    "if 1 < 2:           ## Wenn 1 kleiner 2 dann word Yep ausgegeben.\n",
    "    print('Yep!')"
   ]
  },
  {
   "cell_type": "code",
   "execution_count": null,
   "metadata": {},
   "outputs": [
    {
     "name": "stdout",
     "output_type": "stream",
     "text": [
      "first\n"
     ]
    }
   ],
   "source": [
    "## Spielen Sie mit den Werten in der Variable i (Z.B. Wert 2 ) um zu sehen, wie entweder First oder Last\n",
    "## ausgegeben werden. \n",
    "i = 1\n",
    "if i < 2:\n",
    "    print('first')\n",
    "else:\n",
    "    print('last')\n",
    "    \n"
   ]
  },
  {
   "cell_type": "code",
   "execution_count": null,
   "metadata": {},
   "outputs": [
    {
     "name": "stdout",
     "output_type": "stream",
     "text": [
      "Zweiter Bereich\n"
     ]
    }
   ],
   "source": [
    "## Spielen Sie auch hier mit den Werten um die Funktion zu sehen.\n",
    "i = 3\n",
    "if i < 2:\n",
    "    print('Erster Bereich')\n",
    "elif 2 < i < 4:\n",
    "    print('Zweiter Bereich')\n",
    "else:\n",
    "    print('Dritter Bereich')"
   ]
  },
  {
   "cell_type": "markdown",
   "metadata": {},
   "source": [
    "### Schleifen (Loops)"
   ]
  },
  {
   "cell_type": "markdown",
   "metadata": {},
   "source": [
    "Mittels Schleifen können Sie Programmabläufe über wiederholt ablaufen lassen. Die Anzahl der Schleifen kann z.B. in Abhängigkeit von Daten in einem Element angegeben werden. \n",
    "\n",
    "Python kennt zwei verschiedne Schleifen:\n",
    "* die While-Schleife und \n",
    "* die For-Each-Schleife.\n",
    "\n",
    "Weiterführende Informationen: https://docs.python.org/3/tutorial/controlflow.html#for-statements"
   ]
  },
  {
   "cell_type": "code",
   "execution_count": null,
   "metadata": {},
   "outputs": [
    {
     "name": "stdout",
     "output_type": "stream",
     "text": [
      "0 is less than 5\n",
      "1 is less than 5\n",
      "2 is less than 5\n",
      "3 is less than 5\n",
      "4 is less than 5\n"
     ]
    }
   ],
   "source": [
    "## While Schleife:\n",
    "x = 0\n",
    "while x < 5:\n",
    "    print(x, \"is less than 5\")\n",
    "    x +=1"
   ]
  },
  {
   "cell_type": "code",
   "execution_count": null,
   "metadata": {},
   "outputs": [
    {
     "name": "stdout",
     "output_type": "stream",
     "text": [
      "0 is less than 5\n",
      "1 is less than 5\n",
      "2 is less than 5\n",
      "3 is less than 5\n",
      "4 is less than 5\n"
     ]
    }
   ],
   "source": [
    "## For each Schleife\n",
    "for x in range(5):\n",
    "    print(x, \"is less than 5\")"
   ]
  },
  {
   "cell_type": "code",
   "execution_count": null,
   "metadata": {},
   "outputs": [
    {
     "name": "stdout",
     "output_type": "stream",
     "text": [
      "1 is less than 5\n",
      "2 is less than 5\n",
      "3 is less than 5\n",
      "4 is less than 5\n"
     ]
    }
   ],
   "source": [
    "## for each über Elemente einer Liste\n",
    "list = [1, 2, 3, 4]\n",
    "for x in list:\n",
    "    print(x, \"is less than 5\")"
   ]
  },
  {
   "cell_type": "markdown",
   "metadata": {},
   "source": [
    "## Zufall"
   ]
  },
  {
   "cell_type": "markdown",
   "metadata": {},
   "source": [
    "Beim Erlernen von Data Science wird man häufiger Zufallszahlen gernerieren müssen. Dabei ist das Modul 'random' sehr hilfreich."
   ]
  },
  {
   "cell_type": "code",
   "execution_count": null,
   "metadata": {},
   "outputs": [
    {
     "data": {
      "text/plain": [
       "[0.6865648278030342,\n",
       " 0.9430322679587566,\n",
       " 0.464860605566112,\n",
       " 0.44340982153393904]"
      ]
     },
     "execution_count": 27,
     "metadata": {},
     "output_type": "execute_result"
    }
   ],
   "source": [
    "import random\n",
    "\n",
    "## random.random() liefert zwischen 0 und 1 gleichverteilte Zahlen. \n",
    "## _ Gibt Wert nicht an. Das heißt hier wird 4 mal die Funktion random.random() ausgeführt.\n",
    "vier_zufallszahlen = [random.random() for _ in range(4)]\n",
    "vier_zufallszahlen"
   ]
  },
  {
   "cell_type": "code",
   "execution_count": null,
   "metadata": {},
   "outputs": [
    {
     "name": "stdout",
     "output_type": "stream",
     "text": [
      "0.5714025946899135\n",
      "0.5714025946899135\n"
     ]
    }
   ],
   "source": [
    "## Um reproduzierbare Zahlen zu bekommen können auch Seed Nummer mit angegeben werden. \n",
    "import random\n",
    "random.seed(10)   ## Setze Seed auf 10\n",
    "print(random.random())\n",
    "\n",
    "## Wiederholte Ausführung liefert die gleiche Zufallszahl\n",
    "random.seed(10)   ## Setze Seed auf 10\n",
    "print(random.random())"
   ]
  },
  {
   "cell_type": "code",
   "execution_count": null,
   "metadata": {},
   "outputs": [
    {
     "name": "stdout",
     "output_type": "stream",
     "text": [
      "Ralf\n"
     ]
    }
   ],
   "source": [
    "## Mit Random.choice können Zufällige Elemente einer Datensruktur z.B. einer Liste ausgewählt werden. \n",
    "## Mehrfaches Ausführen dieser Zelle wird unterschiedliche Werte zurückgeben.\n",
    "names = ['Ralf', 'Maria', 'Michael', 'Sina' , 'Tina']\n",
    "print(random.choice(names))"
   ]
  },
  {
   "cell_type": "code",
   "execution_count": null,
   "metadata": {},
   "outputs": [
    {
     "name": "stdout",
     "output_type": "stream",
     "text": [
      "[13, 29, 31, 17, 41, 10]\n"
     ]
    }
   ],
   "source": [
    "## Mittels Random Sample können Sie eine Stichprobe mit Ziehen ohne Zurücklegen (keine Duplikate) generieren\n",
    "lottozahlen = range(49)\n",
    "ziehung = random.sample(lottozahlen,6)\n",
    "print(ziehung)"
   ]
  },
  {
   "cell_type": "markdown",
   "metadata": {},
   "source": [
    "## Lamda-Funktion"
   ]
  },
  {
   "cell_type": "markdown",
   "metadata": {},
   "source": [
    "Die Lambda-Funktionen stammen aus der funktionalen Programmierung und ermöglichen es, anonyme Funktionen (also Funktionen ohne Funktionsnamen) zu definieren.  \n",
    "\n",
    "Anonymen Funktionen kommen z.B. in Map and Reduce Anwendung zum Einsatz. Es reduziert massiv den Programmieraufwand und erhöht die Übersichtlichkeit. \n",
    "\n",
    "Eine sehr gute Einführung zu Lamda-Funktionen ist unter http://www.python-kurs.eu/python3_lambda.php zu finden. "
   ]
  },
  {
   "cell_type": "code",
   "execution_count": null,
   "metadata": {},
   "outputs": [
    {
     "name": "stdout",
     "output_type": "stream",
     "text": [
      "8\n",
      "8\n"
     ]
    }
   ],
   "source": [
    "## Allgemeiner Aufbau einer Lambda Funktion:\n",
    "## lambda Argumentliste : Ausdruck\n",
    "## Die Argumentliste besteht aus einer Kommegetrennten Liste von Arguementen. \n",
    "\n",
    "## Funktion ohne Lambda-Schreibweise\n",
    "def multiply(var):\n",
    "    return var*2\n",
    "\n",
    "print(multiply(4))    ### Liefert 8 zurück\n",
    "\n",
    "## In Lambda geschrieben ergibt sich folgende Schreibweise der gleichen Funktion\n",
    "f = lambda var : var*2\n",
    "print(f(4))           ### Ausgabe auch hier 8"
   ]
  },
  {
   "cell_type": "markdown",
   "metadata": {},
   "source": [
    "## Map"
   ]
  },
  {
   "cell_type": "markdown",
   "metadata": {},
   "source": [
    "Den Vorteil des Lamda Operators wird vor allem in der Map Funktion deutlich:\n",
    "\n",
    "Map ist eine Funktion, die aus zwei wesentlichen Elementen besteht\n",
    "r = map(func, seq)\n",
    "\n",
    "Map wendet die Funktion func auf alle Elemente der Sequenz seq an, also z.B. auf eine Liste oder ein Dictionary.\n",
    "Die Ergebnisse stehen über einen Map Objekt (Iterator) zur Verfügung. \n",
    "\n",
    "Ist als Ergebnis eine Liste erwünscht, lässt sich dies mithilfe der list-Function erreichen.\n",
    "\n",
    "Weiterführende Informationen: http://www.python-kurs.eu/python3_lambda.php \n"
   ]
  },
  {
   "cell_type": "code",
   "execution_count": null,
   "metadata": {},
   "outputs": [],
   "source": [
    "## Definition von zwei Funktionen für die Umrechnung von Temperaturen in C und F\n",
    "## Siehe auch http://www.sengpielaudio.com/UmrechTemp.htm\n",
    "\n",
    "def fahrenheit(C):\n",
    "    return (9.0/5.0)*C + 32\n"
   ]
  },
  {
   "cell_type": "code",
   "execution_count": null,
   "metadata": {},
   "outputs": [
    {
     "name": "stdout",
     "output_type": "stream",
     "text": [
      "[36.4, 37, 37.5, 39]\n"
     ]
    }
   ],
   "source": [
    "## Liste an Temperaturen in Celsius\n",
    "C_list = [36.4, 37, 37.5, 39]\n",
    "print(C_list)\n"
   ]
  },
  {
   "cell_type": "code",
   "execution_count": null,
   "metadata": {},
   "outputs": [
    {
     "name": "stdout",
     "output_type": "stream",
     "text": [
      "{97.52, 98.60000000000001, 99.5, 102.2}\n"
     ]
    }
   ],
   "source": [
    "## Nun wird die Berechnung der Funktion Fahrenheit auf alle Elemente der Liste angewandt\n",
    "F_list = map(fahrenheit, C_list)\n",
    "print(set(F_list))"
   ]
  },
  {
   "cell_type": "code",
   "execution_count": null,
   "metadata": {},
   "outputs": [
    {
     "name": "stdout",
     "output_type": "stream",
     "text": [
      "{97.52, 98.60000000000001, 99.5, 102.2}\n"
     ]
    }
   ],
   "source": [
    "## Noch prägnanter: Verwendung der Lambda Funktion:\n",
    "F_list = set(map(lambda C: (9/5)*C+32, C_list))\n",
    "print(F_list)"
   ]
  },
  {
   "cell_type": "code",
   "execution_count": null,
   "metadata": {},
   "outputs": [
    {
     "name": "stdout",
     "output_type": "stream",
     "text": [
      "{14}\n"
     ]
    },
    {
     "data": {
      "text/plain": [
       "{5, 9, 15, 18}"
      ]
     },
     "execution_count": 49,
     "metadata": {},
     "output_type": "execute_result"
    }
   ],
   "source": [
    "#### Man kann Lamda Funktionen auch auf mehrere Listen gleichzeitig anwenden.\n",
    "a = [1, 2, 3, 4]\n",
    "b = [13, 12, 11, 10]\n",
    "c = [-1, -4, 5, 9]\n",
    "\n",
    "add_a_b = set(map(lambda x, y: x+y, a, b))\n",
    "print(add_a_b)\n",
    "\n",
    "### Parameter x zieht seinen Wert aus Liste a, y aus Liste b und z aus Liste c.\n",
    "set(map(lambda x, y, z: x+y-z, a,b,c))"
   ]
  },
  {
   "cell_type": "code",
   "execution_count": null,
   "metadata": {},
   "outputs": [
    {
     "data": {
      "text/plain": [
       "[36.4, 37, 37.5, 39]"
      ]
     },
     "execution_count": 50,
     "metadata": {},
     "output_type": "execute_result"
    }
   ],
   "source": [
    "C_list"
   ]
  },
  {
   "cell_type": "code",
   "execution_count": null,
   "metadata": {},
   "outputs": [
    {
     "data": {
      "text/plain": [
       "list"
      ]
     },
     "execution_count": 51,
     "metadata": {},
     "output_type": "execute_result"
    }
   ],
   "source": [
    "type(C_list)"
   ]
  },
  {
   "cell_type": "code",
   "execution_count": null,
   "metadata": {},
   "outputs": [],
   "source": [
    "liste = [\"foo\", \"bar\", \"test\"]"
   ]
  },
  {
   "cell_type": "code",
   "execution_count": null,
   "metadata": {},
   "outputs": [
    {
     "data": {
      "text/plain": [
       "{'BAR', 'FOO', 'TEST'}"
      ]
     },
     "execution_count": 54,
     "metadata": {},
     "output_type": "execute_result"
    }
   ],
   "source": [
    "set(map(lambda x:x.upper(), liste))"
   ]
  },
  {
   "cell_type": "code",
   "execution_count": null,
   "metadata": {
    "collapsed": true,
    "jupyter": {
     "outputs_hidden": true
    }
   },
   "outputs": [],
   "source": []
  }
 ],
 "metadata": {
  "anaconda-cloud": {},
  "kernelspec": {
   "display_name": "Python 3 (ipykernel)",
   "language": "python",
   "name": "python3"
  },
  "language_info": {
   "codemirror_mode": {
    "name": "ipython",
    "version": 3
   },
   "file_extension": ".py",
   "mimetype": "text/x-python",
   "name": "python",
   "nbconvert_exporter": "python",
   "pygments_lexer": "ipython3",
   "version": "3.13.3"
  }
 },
 "nbformat": 4,
 "nbformat_minor": 4
}
