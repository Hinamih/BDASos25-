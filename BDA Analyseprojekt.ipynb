{
 "cells": [
  {
   "cell_type": "markdown",
   "metadata": {},
   "source": [
    "# BDA Analyseprojekt \n",
    "Ilma Lupic 217098; Celina Wegner 216841; Malaika Hatos 216839"
   ]
  },
  {
   "cell_type": "code",
   "execution_count": 3,
   "metadata": {
    "slideshow": {
     "slide_type": "fragment"
    }
   },
   "outputs": [],
   "source": [
    "# Bibliotheken\n",
    "import numpy as np\n",
    "import pandas as pd\n",
    "import scipy.stats as stats\n",
    "import matplotlib.pyplot as plt\n",
    "import math\n",
    "import seaborn as sns"
   ]
  },
  {
   "cell_type": "code",
   "execution_count": 18,
   "metadata": {
    "slideshow": {
     "slide_type": "fragment"
    }
   },
   "outputs": [
    {
     "name": "stderr",
     "output_type": "stream",
     "text": [
      "C:\\Users\\celin\\AppData\\Local\\Temp\\ipykernel_1056\\206405573.py:1: ParserWarning: Length of header or names does not match length of data. This leads to a loss of data with index_col=False.\n",
      "  df = pd.read_csv(\"data/games.csv\", index_col=False)\n"
     ]
    },
    {
     "data": {
      "text/plain": [
       "AppID                           int64\n",
       "Name                           object\n",
       "Release date                   object\n",
       "Estimated owners               object\n",
       "Peak CCU                        int64\n",
       "Required age                    int64\n",
       "Price                         float64\n",
       "DiscountDLC count               int64\n",
       "About the game                  int64\n",
       "Supported languages            object\n",
       "Full audio languages           object\n",
       "Reviews                        object\n",
       "Header image                   object\n",
       "Website                        object\n",
       "Support url                    object\n",
       "Support email                  object\n",
       "Windows                        object\n",
       "Mac                              bool\n",
       "Linux                            bool\n",
       "Metacritic score                 bool\n",
       "Metacritic url                  int64\n",
       "User score                     object\n",
       "Positive                        int64\n",
       "Negative                        int64\n",
       "Score rank                      int64\n",
       "Achievements                  float64\n",
       "Recommendations                 int64\n",
       "Notes                           int64\n",
       "Average playtime forever       object\n",
       "Average playtime two weeks      int64\n",
       "Median playtime forever         int64\n",
       "Median playtime two weeks       int64\n",
       "Developers                      int64\n",
       "Publishers                     object\n",
       "Categories                     object\n",
       "Genres                         object\n",
       "Tags                           object\n",
       "Screenshots                    object\n",
       "Movies                         object\n",
       "dtype: object"
      ]
     },
     "execution_count": 18,
     "metadata": {},
     "output_type": "execute_result"
    }
   ],
   "source": [
    "df = pd.read_csv(\"data/games.csv\", index_col=False)\n",
    "df.dtypes"
   ]
  },
  {
   "cell_type": "code",
   "execution_count": 19,
   "metadata": {
    "slideshow": {
     "slide_type": "fragment"
    }
   },
   "outputs": [
    {
     "data": {
      "text/html": [
       "<div>\n",
       "<style scoped>\n",
       "    .dataframe tbody tr th:only-of-type {\n",
       "        vertical-align: middle;\n",
       "    }\n",
       "\n",
       "    .dataframe tbody tr th {\n",
       "        vertical-align: top;\n",
       "    }\n",
       "\n",
       "    .dataframe thead th {\n",
       "        text-align: right;\n",
       "    }\n",
       "</style>\n",
       "<table border=\"1\" class=\"dataframe\">\n",
       "  <thead>\n",
       "    <tr style=\"text-align: right;\">\n",
       "      <th></th>\n",
       "      <th>AppID</th>\n",
       "      <th>Name</th>\n",
       "      <th>Release date</th>\n",
       "      <th>Estimated owners</th>\n",
       "      <th>Peak CCU</th>\n",
       "      <th>Required age</th>\n",
       "      <th>Price</th>\n",
       "      <th>DiscountDLC count</th>\n",
       "      <th>About the game</th>\n",
       "      <th>Supported languages</th>\n",
       "      <th>...</th>\n",
       "      <th>Average playtime two weeks</th>\n",
       "      <th>Median playtime forever</th>\n",
       "      <th>Median playtime two weeks</th>\n",
       "      <th>Developers</th>\n",
       "      <th>Publishers</th>\n",
       "      <th>Categories</th>\n",
       "      <th>Genres</th>\n",
       "      <th>Tags</th>\n",
       "      <th>Screenshots</th>\n",
       "      <th>Movies</th>\n",
       "    </tr>\n",
       "  </thead>\n",
       "  <tbody>\n",
       "    <tr>\n",
       "      <th>0</th>\n",
       "      <td>20200</td>\n",
       "      <td>Galactic Bowling</td>\n",
       "      <td>Oct 21, 2008</td>\n",
       "      <td>0 - 20000</td>\n",
       "      <td>0</td>\n",
       "      <td>0</td>\n",
       "      <td>19.99</td>\n",
       "      <td>0</td>\n",
       "      <td>0</td>\n",
       "      <td>Galactic Bowling is an exaggerated and stylize...</td>\n",
       "      <td>...</td>\n",
       "      <td>0</td>\n",
       "      <td>0</td>\n",
       "      <td>0</td>\n",
       "      <td>0</td>\n",
       "      <td>Perpetual FX Creative</td>\n",
       "      <td>Perpetual FX Creative</td>\n",
       "      <td>Single-player,Multi-player,Steam Achievements,...</td>\n",
       "      <td>Casual,Indie,Sports</td>\n",
       "      <td>Indie,Casual,Sports,Bowling</td>\n",
       "      <td>https://cdn.akamai.steamstatic.com/steam/apps/...</td>\n",
       "    </tr>\n",
       "    <tr>\n",
       "      <th>1</th>\n",
       "      <td>655370</td>\n",
       "      <td>Train Bandit</td>\n",
       "      <td>Oct 12, 2017</td>\n",
       "      <td>0 - 20000</td>\n",
       "      <td>0</td>\n",
       "      <td>0</td>\n",
       "      <td>0.99</td>\n",
       "      <td>0</td>\n",
       "      <td>0</td>\n",
       "      <td>THE LAW!! Looks to be a showdown atop a train....</td>\n",
       "      <td>...</td>\n",
       "      <td>0</td>\n",
       "      <td>0</td>\n",
       "      <td>0</td>\n",
       "      <td>0</td>\n",
       "      <td>Rusty Moyher</td>\n",
       "      <td>Wild Rooster</td>\n",
       "      <td>Single-player,Steam Achievements,Full controll...</td>\n",
       "      <td>Action,Indie</td>\n",
       "      <td>Indie,Action,Pixel Graphics,2D,Retro,Arcade,Sc...</td>\n",
       "      <td>https://cdn.akamai.steamstatic.com/steam/apps/...</td>\n",
       "    </tr>\n",
       "    <tr>\n",
       "      <th>2</th>\n",
       "      <td>1732930</td>\n",
       "      <td>Jolt Project</td>\n",
       "      <td>Nov 17, 2021</td>\n",
       "      <td>0 - 20000</td>\n",
       "      <td>0</td>\n",
       "      <td>0</td>\n",
       "      <td>4.99</td>\n",
       "      <td>0</td>\n",
       "      <td>0</td>\n",
       "      <td>Jolt Project: The army now has a new robotics ...</td>\n",
       "      <td>...</td>\n",
       "      <td>0</td>\n",
       "      <td>0</td>\n",
       "      <td>0</td>\n",
       "      <td>0</td>\n",
       "      <td>Campião Games</td>\n",
       "      <td>Campião Games</td>\n",
       "      <td>Single-player</td>\n",
       "      <td>Action,Adventure,Indie,Strategy</td>\n",
       "      <td>NaN</td>\n",
       "      <td>https://cdn.akamai.steamstatic.com/steam/apps/...</td>\n",
       "    </tr>\n",
       "    <tr>\n",
       "      <th>3</th>\n",
       "      <td>1355720</td>\n",
       "      <td>Henosis™</td>\n",
       "      <td>Jul 23, 2020</td>\n",
       "      <td>0 - 20000</td>\n",
       "      <td>0</td>\n",
       "      <td>0</td>\n",
       "      <td>5.99</td>\n",
       "      <td>0</td>\n",
       "      <td>0</td>\n",
       "      <td>HENOSIS™ is a mysterious 2D Platform Puzzler w...</td>\n",
       "      <td>...</td>\n",
       "      <td>0</td>\n",
       "      <td>0</td>\n",
       "      <td>0</td>\n",
       "      <td>0</td>\n",
       "      <td>Odd Critter Games</td>\n",
       "      <td>Odd Critter Games</td>\n",
       "      <td>Single-player,Full controller support</td>\n",
       "      <td>Adventure,Casual,Indie</td>\n",
       "      <td>2D Platformer,Atmospheric,Surreal,Mystery,Puzz...</td>\n",
       "      <td>https://cdn.akamai.steamstatic.com/steam/apps/...</td>\n",
       "    </tr>\n",
       "    <tr>\n",
       "      <th>4</th>\n",
       "      <td>1139950</td>\n",
       "      <td>Two Weeks in Painland</td>\n",
       "      <td>Feb 3, 2020</td>\n",
       "      <td>0 - 20000</td>\n",
       "      <td>0</td>\n",
       "      <td>0</td>\n",
       "      <td>0.00</td>\n",
       "      <td>0</td>\n",
       "      <td>0</td>\n",
       "      <td>ABOUT THE GAME Play as a hacker who has arrang...</td>\n",
       "      <td>...</td>\n",
       "      <td>0</td>\n",
       "      <td>0</td>\n",
       "      <td>0</td>\n",
       "      <td>0</td>\n",
       "      <td>Unusual Games</td>\n",
       "      <td>Unusual Games</td>\n",
       "      <td>Single-player,Steam Achievements</td>\n",
       "      <td>Adventure,Indie</td>\n",
       "      <td>Indie,Adventure,Nudity,Violent,Sexual Content,...</td>\n",
       "      <td>https://cdn.akamai.steamstatic.com/steam/apps/...</td>\n",
       "    </tr>\n",
       "  </tbody>\n",
       "</table>\n",
       "<p>5 rows × 39 columns</p>\n",
       "</div>"
      ],
      "text/plain": [
       "     AppID                   Name  Release date Estimated owners  Peak CCU  \\\n",
       "0    20200       Galactic Bowling  Oct 21, 2008        0 - 20000         0   \n",
       "1   655370           Train Bandit  Oct 12, 2017        0 - 20000         0   \n",
       "2  1732930           Jolt Project  Nov 17, 2021        0 - 20000         0   \n",
       "3  1355720               Henosis™  Jul 23, 2020        0 - 20000         0   \n",
       "4  1139950  Two Weeks in Painland   Feb 3, 2020        0 - 20000         0   \n",
       "\n",
       "   Required age  Price  DiscountDLC count  About the game  \\\n",
       "0             0  19.99                  0               0   \n",
       "1             0   0.99                  0               0   \n",
       "2             0   4.99                  0               0   \n",
       "3             0   5.99                  0               0   \n",
       "4             0   0.00                  0               0   \n",
       "\n",
       "                                 Supported languages  ...  \\\n",
       "0  Galactic Bowling is an exaggerated and stylize...  ...   \n",
       "1  THE LAW!! Looks to be a showdown atop a train....  ...   \n",
       "2  Jolt Project: The army now has a new robotics ...  ...   \n",
       "3  HENOSIS™ is a mysterious 2D Platform Puzzler w...  ...   \n",
       "4  ABOUT THE GAME Play as a hacker who has arrang...  ...   \n",
       "\n",
       "  Average playtime two weeks Median playtime forever  \\\n",
       "0                          0                       0   \n",
       "1                          0                       0   \n",
       "2                          0                       0   \n",
       "3                          0                       0   \n",
       "4                          0                       0   \n",
       "\n",
       "  Median playtime two weeks Developers             Publishers  \\\n",
       "0                         0          0  Perpetual FX Creative   \n",
       "1                         0          0           Rusty Moyher   \n",
       "2                         0          0          Campião Games   \n",
       "3                         0          0      Odd Critter Games   \n",
       "4                         0          0          Unusual Games   \n",
       "\n",
       "              Categories                                             Genres  \\\n",
       "0  Perpetual FX Creative  Single-player,Multi-player,Steam Achievements,...   \n",
       "1           Wild Rooster  Single-player,Steam Achievements,Full controll...   \n",
       "2          Campião Games                                      Single-player   \n",
       "3      Odd Critter Games              Single-player,Full controller support   \n",
       "4          Unusual Games                   Single-player,Steam Achievements   \n",
       "\n",
       "                              Tags  \\\n",
       "0              Casual,Indie,Sports   \n",
       "1                     Action,Indie   \n",
       "2  Action,Adventure,Indie,Strategy   \n",
       "3           Adventure,Casual,Indie   \n",
       "4                  Adventure,Indie   \n",
       "\n",
       "                                         Screenshots  \\\n",
       "0                        Indie,Casual,Sports,Bowling   \n",
       "1  Indie,Action,Pixel Graphics,2D,Retro,Arcade,Sc...   \n",
       "2                                                NaN   \n",
       "3  2D Platformer,Atmospheric,Surreal,Mystery,Puzz...   \n",
       "4  Indie,Adventure,Nudity,Violent,Sexual Content,...   \n",
       "\n",
       "                                              Movies  \n",
       "0  https://cdn.akamai.steamstatic.com/steam/apps/...  \n",
       "1  https://cdn.akamai.steamstatic.com/steam/apps/...  \n",
       "2  https://cdn.akamai.steamstatic.com/steam/apps/...  \n",
       "3  https://cdn.akamai.steamstatic.com/steam/apps/...  \n",
       "4  https://cdn.akamai.steamstatic.com/steam/apps/...  \n",
       "\n",
       "[5 rows x 39 columns]"
      ]
     },
     "execution_count": 19,
     "metadata": {},
     "output_type": "execute_result"
    }
   ],
   "source": [
    "df.head()"
   ]
  },
  {
   "cell_type": "code",
   "execution_count": null,
   "metadata": {},
   "outputs": [
    {
     "data": {
      "text/plain": [
       "defaultdict(int,\n",
       "            {'John': 2,\n",
       "             'likes': 3,\n",
       "             'to': 2,\n",
       "             'watch': 2,\n",
       "             'movies': 2,\n",
       "             'Mary': 1,\n",
       "             'too': 1,\n",
       "             'also': 1,\n",
       "             'football': 1,\n",
       "             'games': 1})"
      ]
     },
     "execution_count": 17,
     "metadata": {},
     "output_type": "execute_result"
    }
   ],
   "source": [
    "## Import des defaultdicts\n",
    "from collections import defaultdict \n",
    "\n",
    "## Deklaration des Defaultdicts\n",
    "word_counts = defaultdict(int)    ## Funktion int() liefet 0 und stellt die Funktion zur Setzung des initialen Wertes dar.\n",
    "\n",
    "## Zählen der Wörter des Textes in der Variable text\n",
    "text = \"John likes to watch movies. Mary likes movies too. John also likes to watch football games.\"\n",
    "text = text.replace(\".\",\"\")       ## Entferne alle Punkte im String.\n",
    "list_of_words = text.split()      ## Teile den Text nach Wörtern auf. \n",
    "\n",
    "for word in list_of_words:        ## Schleife um über alle Wörter zu iterieren\n",
    "    word_counts[word] += 1        ## Für jedes Wort wird ein Key/Value Paar mit initial 0 angelegt und dann um 1 erhöht\n",
    "\n",
    "word_counts  ## Ausgabe funktioniert auch ohne Print, wenn es die einzige Ausgabe in der Zelle ist.\n",
    "\n"
   ]
  },
  {
   "cell_type": "markdown",
   "metadata": {},
   "source": [
    "### Sets"
   ]
  },
  {
   "cell_type": "markdown",
   "metadata": {},
   "source": [
    "Eine weitere Datenstruktur ist das Set. Das Set beinhaltet eine Menge eindeutiger Elemente. \n",
    "\n",
    "Sets eigenen sich sehr gut dafür, eindeutige (unique) Werte zu identifizieren und auszugeben.\n",
    "  \n",
    "Definiert werden Sets mittels der Funktion sets()"
   ]
  },
  {
   "cell_type": "code",
   "execution_count": null,
   "metadata": {},
   "outputs": [
    {
     "data": {
      "text/plain": [
       "{1, 2}"
      ]
     },
     "execution_count": 18,
     "metadata": {},
     "output_type": "execute_result"
    }
   ],
   "source": [
    "s = set()   ## Definition des Sets\n",
    "s.add(1)    ## Fügt eine 1 dem Set hinzu.\n",
    "s.add(2)    ## Fügt eine 2 dem Set hinzu.\n",
    "s.add(1)    ## Ändert nichts am Set, Set beinhaltet immer noch zwei Werte\n",
    "s"
   ]
  },
  {
   "cell_type": "code",
   "execution_count": null,
   "metadata": {},
   "outputs": [
    {
     "name": "stdout",
     "output_type": "stream",
     "text": [
      "6\n",
      "3\n",
      "[1, 2, 3]\n"
     ]
    }
   ],
   "source": [
    "### Mit den folgenden Schritten können Sie eindeutig Elemente in einer Dictionary extrahieren:\n",
    "item_list = [1, 2, 3, 1, 2, 3]\n",
    "print(len(item_list))       # Output ist 6\n",
    "item_set = set(item_list)  # Set is defined\n",
    "print(len(item_set))        # Output ist 3\n",
    "distinct_item_list = list(item_set) # Output ist [1,2,3]\n",
    "print(distinct_item_list)"
   ]
  },
  {
   "cell_type": "markdown",
   "metadata": {},
   "source": [
    "### Ausgabe von Variabeln in Print mit Platzhaltern"
   ]
  },
  {
   "cell_type": "markdown",
   "metadata": {},
   "source": [
    "Manchmal ist es hilfreich, wenn man Variabeln ausgeben kann und einen beschreibenden Text mit einbauen kann. Hierfür können in der print-Funktion Platzhalter für verschiedene Variablen festlegt werden. Diese werden dann am Ende des Funktionsaufrufs einfach mit angegeben. \n"
   ]
  },
  {
   "cell_type": "code",
   "execution_count": null,
   "metadata": {},
   "outputs": [
    {
     "name": "stdout",
     "output_type": "stream",
     "text": [
      "Name des Studenten ist: Max Mustermann. Er hat sich als 2 angemeldet. Seine Augenfarbe ist blau und sein Gewicht beläuft sich auf 74 kg\n"
     ]
    }
   ],
   "source": [
    "text1 = \"Max Mustermann\"\n",
    "number1 = 2\n",
    "augenfarbe = \"blau\"\n",
    "Gewicht = 74\n",
    "\n",
    "## Mittels %s identifiziert Python einen Platzhalter für String Variabeln\n",
    "## Mittels %d identifiziert Python einen Platzhalter für Numerische Variabeln\n",
    "\n",
    "print(\"Name des Studenten ist: %s. Er hat sich als %d angemeldet. Seine Augenfarbe \\\n",
    "ist %s und sein Gewicht beläuft sich auf %d kg\" % (text1, number1, augenfarbe, Gewicht))"
   ]
  },
  {
   "cell_type": "markdown",
   "metadata": {},
   "source": [
    "## Kontrollfluss"
   ]
  },
  {
   "cell_type": "markdown",
   "metadata": {},
   "source": [
    "Weiterführende Informationen: https://docs.python.org/3/tutorial/controlflow.html#"
   ]
  },
  {
   "cell_type": "markdown",
   "metadata": {},
   "source": [
    "### if elif else Statements"
   ]
  },
  {
   "cell_type": "markdown",
   "metadata": {},
   "source": [
    "Mittels if Bedingungen kann der Programmfluss nach Bedingungen eingegegrenzt werden. \n",
    "\n",
    "Weiterführende Information: https://docs.python.org/3/tutorial/controlflow.html#if-statements\n"
   ]
  },
  {
   "cell_type": "code",
   "execution_count": null,
   "metadata": {},
   "outputs": [
    {
     "name": "stdout",
     "output_type": "stream",
     "text": [
      "Yep!\n"
     ]
    }
   ],
   "source": [
    "if 1 < 2:           ## Wenn 1 kleiner 2 dann word Yep ausgegeben.\n",
    "    print('Yep!')"
   ]
  },
  {
   "cell_type": "code",
   "execution_count": null,
   "metadata": {},
   "outputs": [
    {
     "name": "stdout",
     "output_type": "stream",
     "text": [
      "first\n"
     ]
    }
   ],
   "source": [
    "## Spielen Sie mit den Werten in der Variable i (Z.B. Wert 2 ) um zu sehen, wie entweder First oder Last\n",
    "## ausgegeben werden. \n",
    "i = 1\n",
    "if i < 2:\n",
    "    print('first')\n",
    "else:\n",
    "    print('last')\n",
    "    \n"
   ]
  },
  {
   "cell_type": "code",
   "execution_count": null,
   "metadata": {},
   "outputs": [
    {
     "name": "stdout",
     "output_type": "stream",
     "text": [
      "Zweiter Bereich\n"
     ]
    }
   ],
   "source": [
    "## Spielen Sie auch hier mit den Werten um die Funktion zu sehen.\n",
    "i = 3\n",
    "if i < 2:\n",
    "    print('Erster Bereich')\n",
    "elif 2 < i < 4:\n",
    "    print('Zweiter Bereich')\n",
    "else:\n",
    "    print('Dritter Bereich')"
   ]
  },
  {
   "cell_type": "markdown",
   "metadata": {},
   "source": [
    "### Schleifen (Loops)"
   ]
  },
  {
   "cell_type": "markdown",
   "metadata": {},
   "source": [
    "Mittels Schleifen können Sie Programmabläufe über wiederholt ablaufen lassen. Die Anzahl der Schleifen kann z.B. in Abhängigkeit von Daten in einem Element angegeben werden. \n",
    "\n",
    "Python kennt zwei verschiedne Schleifen:\n",
    "* die While-Schleife und \n",
    "* die For-Each-Schleife.\n",
    "\n",
    "Weiterführende Informationen: https://docs.python.org/3/tutorial/controlflow.html#for-statements"
   ]
  },
  {
   "cell_type": "code",
   "execution_count": null,
   "metadata": {},
   "outputs": [
    {
     "name": "stdout",
     "output_type": "stream",
     "text": [
      "0 is less than 5\n",
      "1 is less than 5\n",
      "2 is less than 5\n",
      "3 is less than 5\n",
      "4 is less than 5\n"
     ]
    }
   ],
   "source": [
    "## While Schleife:\n",
    "x = 0\n",
    "while x < 5:\n",
    "    print(x, \"is less than 5\")\n",
    "    x +=1"
   ]
  },
  {
   "cell_type": "code",
   "execution_count": null,
   "metadata": {},
   "outputs": [
    {
     "name": "stdout",
     "output_type": "stream",
     "text": [
      "0 is less than 5\n",
      "1 is less than 5\n",
      "2 is less than 5\n",
      "3 is less than 5\n",
      "4 is less than 5\n"
     ]
    }
   ],
   "source": [
    "## For each Schleife\n",
    "for x in range(5):\n",
    "    print(x, \"is less than 5\")"
   ]
  },
  {
   "cell_type": "code",
   "execution_count": null,
   "metadata": {},
   "outputs": [
    {
     "name": "stdout",
     "output_type": "stream",
     "text": [
      "1 is less than 5\n",
      "2 is less than 5\n",
      "3 is less than 5\n",
      "4 is less than 5\n"
     ]
    }
   ],
   "source": [
    "## for each über Elemente einer Liste\n",
    "list = [1, 2, 3, 4]\n",
    "for x in list:\n",
    "    print(x, \"is less than 5\")"
   ]
  },
  {
   "cell_type": "markdown",
   "metadata": {},
   "source": [
    "## Zufall"
   ]
  },
  {
   "cell_type": "markdown",
   "metadata": {},
   "source": [
    "Beim Erlernen von Data Science wird man häufiger Zufallszahlen gernerieren müssen. Dabei ist das Modul 'random' sehr hilfreich."
   ]
  },
  {
   "cell_type": "code",
   "execution_count": null,
   "metadata": {},
   "outputs": [
    {
     "data": {
      "text/plain": [
       "[0.6865648278030342,\n",
       " 0.9430322679587566,\n",
       " 0.464860605566112,\n",
       " 0.44340982153393904]"
      ]
     },
     "execution_count": 27,
     "metadata": {},
     "output_type": "execute_result"
    }
   ],
   "source": [
    "import random\n",
    "\n",
    "## random.random() liefert zwischen 0 und 1 gleichverteilte Zahlen. \n",
    "## _ Gibt Wert nicht an. Das heißt hier wird 4 mal die Funktion random.random() ausgeführt.\n",
    "vier_zufallszahlen = [random.random() for _ in range(4)]\n",
    "vier_zufallszahlen"
   ]
  },
  {
   "cell_type": "code",
   "execution_count": null,
   "metadata": {},
   "outputs": [
    {
     "name": "stdout",
     "output_type": "stream",
     "text": [
      "0.5714025946899135\n",
      "0.5714025946899135\n"
     ]
    }
   ],
   "source": [
    "## Um reproduzierbare Zahlen zu bekommen können auch Seed Nummer mit angegeben werden. \n",
    "import random\n",
    "random.seed(10)   ## Setze Seed auf 10\n",
    "print(random.random())\n",
    "\n",
    "## Wiederholte Ausführung liefert die gleiche Zufallszahl\n",
    "random.seed(10)   ## Setze Seed auf 10\n",
    "print(random.random())"
   ]
  },
  {
   "cell_type": "code",
   "execution_count": null,
   "metadata": {},
   "outputs": [
    {
     "name": "stdout",
     "output_type": "stream",
     "text": [
      "Ralf\n"
     ]
    }
   ],
   "source": [
    "## Mit Random.choice können Zufällige Elemente einer Datensruktur z.B. einer Liste ausgewählt werden. \n",
    "## Mehrfaches Ausführen dieser Zelle wird unterschiedliche Werte zurückgeben.\n",
    "names = ['Ralf', 'Maria', 'Michael', 'Sina' , 'Tina']\n",
    "print(random.choice(names))"
   ]
  },
  {
   "cell_type": "code",
   "execution_count": null,
   "metadata": {},
   "outputs": [
    {
     "name": "stdout",
     "output_type": "stream",
     "text": [
      "[13, 29, 31, 17, 41, 10]\n"
     ]
    }
   ],
   "source": [
    "## Mittels Random Sample können Sie eine Stichprobe mit Ziehen ohne Zurücklegen (keine Duplikate) generieren\n",
    "lottozahlen = range(49)\n",
    "ziehung = random.sample(lottozahlen,6)\n",
    "print(ziehung)"
   ]
  },
  {
   "cell_type": "markdown",
   "metadata": {},
   "source": [
    "## Lamda-Funktion"
   ]
  },
  {
   "cell_type": "markdown",
   "metadata": {},
   "source": [
    "Die Lambda-Funktionen stammen aus der funktionalen Programmierung und ermöglichen es, anonyme Funktionen (also Funktionen ohne Funktionsnamen) zu definieren.  \n",
    "\n",
    "Anonymen Funktionen kommen z.B. in Map and Reduce Anwendung zum Einsatz. Es reduziert massiv den Programmieraufwand und erhöht die Übersichtlichkeit. \n",
    "\n",
    "Eine sehr gute Einführung zu Lamda-Funktionen ist unter http://www.python-kurs.eu/python3_lambda.php zu finden. "
   ]
  },
  {
   "cell_type": "code",
   "execution_count": null,
   "metadata": {},
   "outputs": [
    {
     "name": "stdout",
     "output_type": "stream",
     "text": [
      "8\n",
      "8\n"
     ]
    }
   ],
   "source": [
    "## Allgemeiner Aufbau einer Lambda Funktion:\n",
    "## lambda Argumentliste : Ausdruck\n",
    "## Die Argumentliste besteht aus einer Kommegetrennten Liste von Arguementen. \n",
    "\n",
    "## Funktion ohne Lambda-Schreibweise\n",
    "def multiply(var):\n",
    "    return var*2\n",
    "\n",
    "print(multiply(4))    ### Liefert 8 zurück\n",
    "\n",
    "## In Lambda geschrieben ergibt sich folgende Schreibweise der gleichen Funktion\n",
    "f = lambda var : var*2\n",
    "print(f(4))           ### Ausgabe auch hier 8"
   ]
  },
  {
   "cell_type": "markdown",
   "metadata": {},
   "source": [
    "## Map"
   ]
  },
  {
   "cell_type": "markdown",
   "metadata": {},
   "source": [
    "Den Vorteil des Lamda Operators wird vor allem in der Map Funktion deutlich:\n",
    "\n",
    "Map ist eine Funktion, die aus zwei wesentlichen Elementen besteht\n",
    "r = map(func, seq)\n",
    "\n",
    "Map wendet die Funktion func auf alle Elemente der Sequenz seq an, also z.B. auf eine Liste oder ein Dictionary.\n",
    "Die Ergebnisse stehen über einen Map Objekt (Iterator) zur Verfügung. \n",
    "\n",
    "Ist als Ergebnis eine Liste erwünscht, lässt sich dies mithilfe der list-Function erreichen.\n",
    "\n",
    "Weiterführende Informationen: http://www.python-kurs.eu/python3_lambda.php \n"
   ]
  },
  {
   "cell_type": "code",
   "execution_count": null,
   "metadata": {},
   "outputs": [],
   "source": [
    "## Definition von zwei Funktionen für die Umrechnung von Temperaturen in C und F\n",
    "## Siehe auch http://www.sengpielaudio.com/UmrechTemp.htm\n",
    "\n",
    "def fahrenheit(C):\n",
    "    return (9.0/5.0)*C + 32\n"
   ]
  },
  {
   "cell_type": "code",
   "execution_count": null,
   "metadata": {},
   "outputs": [
    {
     "name": "stdout",
     "output_type": "stream",
     "text": [
      "[36.4, 37, 37.5, 39]\n"
     ]
    }
   ],
   "source": [
    "## Liste an Temperaturen in Celsius\n",
    "C_list = [36.4, 37, 37.5, 39]\n",
    "print(C_list)\n"
   ]
  },
  {
   "cell_type": "code",
   "execution_count": null,
   "metadata": {},
   "outputs": [
    {
     "name": "stdout",
     "output_type": "stream",
     "text": [
      "{97.52, 98.60000000000001, 99.5, 102.2}\n"
     ]
    }
   ],
   "source": [
    "## Nun wird die Berechnung der Funktion Fahrenheit auf alle Elemente der Liste angewandt\n",
    "F_list = map(fahrenheit, C_list)\n",
    "print(set(F_list))"
   ]
  },
  {
   "cell_type": "code",
   "execution_count": null,
   "metadata": {},
   "outputs": [
    {
     "name": "stdout",
     "output_type": "stream",
     "text": [
      "{97.52, 98.60000000000001, 99.5, 102.2}\n"
     ]
    }
   ],
   "source": [
    "## Noch prägnanter: Verwendung der Lambda Funktion:\n",
    "F_list = set(map(lambda C: (9/5)*C+32, C_list))\n",
    "print(F_list)"
   ]
  },
  {
   "cell_type": "code",
   "execution_count": null,
   "metadata": {},
   "outputs": [
    {
     "name": "stdout",
     "output_type": "stream",
     "text": [
      "{14}\n"
     ]
    },
    {
     "data": {
      "text/plain": [
       "{5, 9, 15, 18}"
      ]
     },
     "execution_count": 49,
     "metadata": {},
     "output_type": "execute_result"
    }
   ],
   "source": [
    "#### Man kann Lamda Funktionen auch auf mehrere Listen gleichzeitig anwenden.\n",
    "a = [1, 2, 3, 4]\n",
    "b = [13, 12, 11, 10]\n",
    "c = [-1, -4, 5, 9]\n",
    "\n",
    "add_a_b = set(map(lambda x, y: x+y, a, b))\n",
    "print(add_a_b)\n",
    "\n",
    "### Parameter x zieht seinen Wert aus Liste a, y aus Liste b und z aus Liste c.\n",
    "set(map(lambda x, y, z: x+y-z, a,b,c))"
   ]
  },
  {
   "cell_type": "code",
   "execution_count": null,
   "metadata": {},
   "outputs": [
    {
     "data": {
      "text/plain": [
       "[36.4, 37, 37.5, 39]"
      ]
     },
     "execution_count": 50,
     "metadata": {},
     "output_type": "execute_result"
    }
   ],
   "source": [
    "C_list"
   ]
  },
  {
   "cell_type": "code",
   "execution_count": null,
   "metadata": {},
   "outputs": [
    {
     "data": {
      "text/plain": [
       "list"
      ]
     },
     "execution_count": 51,
     "metadata": {},
     "output_type": "execute_result"
    }
   ],
   "source": [
    "type(C_list)"
   ]
  },
  {
   "cell_type": "code",
   "execution_count": null,
   "metadata": {},
   "outputs": [],
   "source": [
    "liste = [\"foo\", \"bar\", \"test\"]"
   ]
  },
  {
   "cell_type": "code",
   "execution_count": null,
   "metadata": {},
   "outputs": [
    {
     "data": {
      "text/plain": [
       "{'BAR', 'FOO', 'TEST'}"
      ]
     },
     "execution_count": 54,
     "metadata": {},
     "output_type": "execute_result"
    }
   ],
   "source": [
    "set(map(lambda x:x.upper(), liste))"
   ]
  },
  {
   "cell_type": "code",
   "execution_count": null,
   "metadata": {
    "collapsed": true,
    "jupyter": {
     "outputs_hidden": true
    }
   },
   "outputs": [],
   "source": []
  }
 ],
 "metadata": {
  "anaconda-cloud": {},
  "kernelspec": {
   "display_name": "Python 3",
   "language": "python",
   "name": "python3"
  },
  "language_info": {
   "codemirror_mode": {
    "name": "ipython",
    "version": 3
   },
   "file_extension": ".py",
   "mimetype": "text/x-python",
   "name": "python",
   "nbconvert_exporter": "python",
   "pygments_lexer": "ipython3",
   "version": "3.13.3"
  }
 },
 "nbformat": 4,
 "nbformat_minor": 4
}
